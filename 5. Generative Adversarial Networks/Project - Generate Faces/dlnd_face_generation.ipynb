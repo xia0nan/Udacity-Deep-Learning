{
 "cells": [
  {
   "cell_type": "markdown",
   "metadata": {
    "colab_type": "text",
    "id": "UQU5oaYcOFX9"
   },
   "source": [
    "# Face Generation\n",
    "\n",
    "In this project, you'll define and train a DCGAN on a dataset of faces. Your goal is to get a generator network to generate *new* images of faces that look as realistic as possible!\n",
    "\n",
    "The project will be broken down into a series of tasks from **loading in data to defining and training adversarial networks**. At the end of the notebook, you'll be able to visualize the results of your trained Generator to see how it performs; your generated samples should look like fairly realistic faces with small amounts of noise.\n",
    "\n",
    "### Get the Data\n",
    "\n",
    "You'll be using the [CelebFaces Attributes Dataset (CelebA)](http://mmlab.ie.cuhk.edu.hk/projects/CelebA.html) to train your adversarial networks.\n",
    "\n",
    "This dataset is more complex than the number datasets (like MNIST or SVHN) you've been working with, and so, you should prepare to define deeper networks and train them for a longer time to get good results. It is suggested that you utilize a GPU for training.\n",
    "\n",
    "### Pre-processed Data\n",
    "\n",
    "Since the project's main focus is on building the GANs, we've done *some* of the pre-processing for you. Each of the CelebA images has been cropped to remove parts of the image that don't include a face, then resized down to 64x64x3 NumPy images. Some sample data is show below.\n",
    "\n",
    "<img src='https://github.com/udacity/deep-learning-v2-pytorch/blob/master/project-face-generation/assets/processed_face_data.png?raw=1' width=60% />\n",
    "\n",
    "> If you are working locally, you can download this data [by clicking here](https://s3.amazonaws.com/video.udacity-data.com/topher/2018/November/5be7eb6f_processed-celeba-small/processed-celeba-small.zip)\n",
    "\n",
    "This is a zip file that you'll need to extract in the home directory of this notebook for further loading and processing. After extracting the data, you should be left with a directory of data `processed_celeba_small/`"
   ]
  },
  {
   "cell_type": "code",
   "execution_count": 0,
   "metadata": {
    "colab": {
     "base_uri": "https://localhost:8080/",
     "height": 311
    },
    "colab_type": "code",
    "id": "KamcqHRCWeLk",
    "outputId": "0f7f3ea7-c451-45f1-90da-b7644d07b3ef"
   },
   "outputs": [
    {
     "name": "stdout",
     "output_type": "stream",
     "text": [
      "Sat Sep 28 10:05:56 2019       \n",
      "+-----------------------------------------------------------------------------+\n",
      "| NVIDIA-SMI 430.40       Driver Version: 418.67       CUDA Version: 10.1     |\n",
      "|-------------------------------+----------------------+----------------------+\n",
      "| GPU  Name        Persistence-M| Bus-Id        Disp.A | Volatile Uncorr. ECC |\n",
      "| Fan  Temp  Perf  Pwr:Usage/Cap|         Memory-Usage | GPU-Util  Compute M. |\n",
      "|===============================+======================+======================|\n",
      "|   0  Tesla T4            Off  | 00000000:00:04.0 Off |                    0 |\n",
      "| N/A   61C    P8    10W /  70W |      0MiB / 15079MiB |      0%      Default |\n",
      "+-------------------------------+----------------------+----------------------+\n",
      "                                                                               \n",
      "+-----------------------------------------------------------------------------+\n",
      "| Processes:                                                       GPU Memory |\n",
      "|  GPU       PID   Type   Process name                             Usage      |\n",
      "|=============================================================================|\n",
      "|  No running processes found                                                 |\n",
      "+-----------------------------------------------------------------------------+\n"
     ]
    }
   ],
   "source": [
    "!nvidia-smi"
   ]
  },
  {
   "cell_type": "code",
   "execution_count": 0,
   "metadata": {
    "colab": {},
    "colab_type": "code",
    "id": "fifTFpaxSLIs"
   },
   "outputs": [],
   "source": [
    "%%capture\n",
    "!wget https://s3.amazonaws.com/video.udacity-data.com/topher/2018/November/5be7eb6f_processed-celeba-small/processed-celeba-small.zip\n",
    "!wget https://raw.githubusercontent.com/udacity/deep-learning-v2-pytorch/master/project-face-generation/problem_unittests.py\n",
    "!mkdir assets\n",
    "!wget https://github.com/udacity/deep-learning-v2-pytorch/raw/master/project-face-generation/assets/processed_face_data.png -P assets/"
   ]
  },
  {
   "cell_type": "code",
   "execution_count": 0,
   "metadata": {
    "colab": {},
    "colab_type": "code",
    "id": "TrL6KsGKOFX-"
   },
   "outputs": [],
   "source": [
    "%%capture\n",
    "# can comment out after executing\n",
    "!unzip processed-celeba-small.zip"
   ]
  },
  {
   "cell_type": "code",
   "execution_count": 7,
   "metadata": {
    "colab": {
     "base_uri": "https://localhost:8080/",
     "height": 34
    },
    "colab_type": "code",
    "id": "RsL9yoNxV4cp",
    "outputId": "dbbf7997-ebe7-4ab5-ca3e-0273942c572f"
   },
   "outputs": [
    {
     "name": "stdout",
     "output_type": "stream",
     "text": [
      "32601\n"
     ]
    }
   ],
   "source": [
    "!ls -1 processed_celeba_small/celeba/ | wc -l"
   ]
  },
  {
   "cell_type": "code",
   "execution_count": 0,
   "metadata": {
    "colab": {},
    "colab_type": "code",
    "id": "leKmIJOrOFYB"
   },
   "outputs": [],
   "source": [
    "data_dir = 'processed_celeba_small/'\n",
    "\n",
    "\"\"\"\n",
    "DON'T MODIFY ANYTHING IN THIS CELL\n",
    "\"\"\"\n",
    "import pickle as pkl\n",
    "import matplotlib.pyplot as plt\n",
    "import numpy as np\n",
    "import problem_unittests as tests\n",
    "#import helper\n",
    "\n",
    "%matplotlib inline"
   ]
  },
  {
   "cell_type": "markdown",
   "metadata": {
    "colab_type": "text",
    "id": "rLTTZY9kOFYD"
   },
   "source": [
    "## Visualize the CelebA Data\n",
    "\n",
    "The [CelebA](http://mmlab.ie.cuhk.edu.hk/projects/CelebA.html) dataset contains over 200,000 celebrity images with annotations. Since you're going to be generating faces, you won't need the annotations, you'll only need the images. Note that these are color images with [3 color channels (RGB)](https://en.wikipedia.org/wiki/Channel_(digital_image)#RGB_Images) each.\n",
    "\n",
    "### Pre-process and Load the Data\n",
    "\n",
    "Since the project's main focus is on building the GANs, we've done *some* of the pre-processing for you. Each of the CelebA images has been cropped to remove parts of the image that don't include a face, then resized down to 64x64x3 NumPy images. This *pre-processed* dataset is a smaller subset of the very large CelebA data.\n",
    "\n",
    "> There are a few other steps that you'll need to **transform** this data and create a **DataLoader**.\n",
    "\n",
    "#### Exercise: Complete the following `get_dataloader` function, such that it satisfies these requirements:\n",
    "\n",
    "* Your images should be square, Tensor images of size `image_size x image_size` in the x and y dimension.\n",
    "* Your function should return a DataLoader that shuffles and batches these Tensor images.\n",
    "\n",
    "#### ImageFolder\n",
    "\n",
    "To create a dataset given a directory of images, it's recommended that you use PyTorch's [ImageFolder](https://pytorch.org/docs/stable/torchvision/datasets.html#imagefolder) wrapper, with a root directory `processed_celeba_small/` and data transformation passed in."
   ]
  },
  {
   "cell_type": "code",
   "execution_count": 0,
   "metadata": {
    "colab": {},
    "colab_type": "code",
    "id": "32Zx3ULaOFYD"
   },
   "outputs": [],
   "source": [
    "# necessary imports\n",
    "import torch\n",
    "from torchvision import datasets\n",
    "from torchvision import transforms\n",
    "from torch.utils.data import DataLoader"
   ]
  },
  {
   "cell_type": "code",
   "execution_count": 0,
   "metadata": {
    "colab": {},
    "colab_type": "code",
    "id": "_JbweIlNOFYF"
   },
   "outputs": [],
   "source": [
    "def get_dataloader(batch_size, image_size, data_dir='processed_celeba_small/'):\n",
    "    \"\"\"\n",
    "    Batch the neural network data using DataLoader\n",
    "    :param batch_size: The size of each batch; the number of images in a batch\n",
    "    :param img_size: The square size of the image data (x, y)\n",
    "    :param data_dir: Directory where image data is located\n",
    "    :return: DataLoader with batched data\n",
    "    \"\"\"\n",
    "    \n",
    "    # TODO: Implement function and return a dataloader\n",
    "    # REF. https://github.com/udacity/deep-learning-v2-pytorch/blob/master/cycle-gan/CycleGAN_Solution.ipynb\n",
    "    \n",
    "    # resize and normalize the images\n",
    "    transform = transforms.Compose([transforms.Resize(image_size), # resize to 128x128\n",
    "                                    transforms.ToTensor()])\n",
    "    \n",
    "    dataset = datasets.ImageFolder(data_dir, transform)\n",
    "    loader = DataLoader(dataset, batch_size, shuffle=True)\n",
    "    \n",
    "    return loader\n"
   ]
  },
  {
   "cell_type": "markdown",
   "metadata": {
    "colab_type": "text",
    "id": "skS9pN3VOFYI"
   },
   "source": [
    "## Create a DataLoader\n",
    "\n",
    "#### Exercise: Create a DataLoader `celeba_train_loader` with appropriate hyperparameters.\n",
    "\n",
    "Call the above function and create a dataloader to view images. \n",
    "* You can decide on any reasonable `batch_size` parameter\n",
    "* Your `image_size` **must be** `32`. Resizing the data to a smaller size will make for faster training, while still creating convincing images of faces!"
   ]
  },
  {
   "cell_type": "code",
   "execution_count": 0,
   "metadata": {
    "colab": {},
    "colab_type": "code",
    "id": "IQWxuvXWOFYJ"
   },
   "outputs": [],
   "source": [
    "# Define function hyperparameters\n",
    "batch_size = 32*4\n",
    "img_size = 32\n",
    "\n",
    "\"\"\"\n",
    "DON'T MODIFY ANYTHING IN THIS CELL THAT IS BELOW THIS LINE\n",
    "\"\"\"\n",
    "# Call your function and get a dataloader\n",
    "celeba_train_loader = get_dataloader(batch_size, img_size)\n"
   ]
  },
  {
   "cell_type": "markdown",
   "metadata": {
    "colab_type": "text",
    "id": "VSM7m9xBOFYL"
   },
   "source": [
    "Next, you can view some images! You should seen square images of somewhat-centered faces.\n",
    "\n",
    "Note: You'll need to convert the Tensor images into a NumPy type and transpose the dimensions to correctly display an image, suggested `imshow` code is below, but it may not be perfect."
   ]
  },
  {
   "cell_type": "code",
   "execution_count": 18,
   "metadata": {
    "colab": {
     "base_uri": "https://localhost:8080/",
     "height": 271
    },
    "colab_type": "code",
    "id": "FcBAhOA_OFYL",
    "outputId": "63c6dff7-0fe7-46ef-adbe-2ab819645831"
   },
   "outputs": [
    {
     "data": {
      "image/png": "[encoded data removed]",
      "text/plain": [
       "<Figure size 1440x288 with 20 Axes>"
      ]
     },
     "metadata": {
      "tags": []
     },
     "output_type": "display_data"
    }
   ],
   "source": [
    "# helper display function\n",
    "def imshow(img):\n",
    "    npimg = img.numpy()\n",
    "    plt.imshow(np.transpose(npimg, (1, 2, 0)))\n",
    "\n",
    "\"\"\"\n",
    "DON'T MODIFY ANYTHING IN THIS CELL THAT IS BELOW THIS LINE\n",
    "\"\"\"\n",
    "# obtain one batch of training images\n",
    "dataiter = iter(celeba_train_loader)\n",
    "images, _ = dataiter.next() # _ for no labels\n",
    "\n",
    "# plot the images in the batch, along with the corresponding labels\n",
    "fig = plt.figure(figsize=(20, 4))\n",
    "plot_size=20\n",
    "for idx in np.arange(plot_size):\n",
    "    ax = fig.add_subplot(2, plot_size/2, idx+1, xticks=[], yticks=[])\n",
    "    imshow(images[idx])"
   ]
  },
  {
   "cell_type": "markdown",
   "metadata": {
    "colab_type": "text",
    "id": "5ddsYq1dOFYN"
   },
   "source": [
    "#### Exercise: Pre-process your image data and scale it to a pixel range of -1 to 1\n",
    "\n",
    "You need to do a bit of pre-processing; you know that the output of a `tanh` activated generator will contain pixel values in a range from -1 to 1, and so, we need to rescale our training images to a range of -1 to 1. (Right now, they are in a range from 0-1.)"
   ]
  },
  {
   "cell_type": "code",
   "execution_count": 0,
   "metadata": {
    "colab": {},
    "colab_type": "code",
    "id": "XJAWEHtzOFYO"
   },
   "outputs": [],
   "source": [
    "# TODO: Complete the scale function\n",
    "def scale(x, feature_range=(-1, 1)):\n",
    "    ''' Scale takes in an image x and returns that image, scaled\n",
    "       with a feature_range of pixel values from -1 to 1. \n",
    "       This function assumes that the input x is already scaled from 0-1.'''\n",
    "    # assume x is scaled to (0, 1)\n",
    "    # scale to feature_range and return scaled x\n",
    "    min, max = feature_range\n",
    "    x = x * (max-min) + min\n",
    "    return x\n"
   ]
  },
  {
   "cell_type": "code",
   "execution_count": 20,
   "metadata": {
    "colab": {
     "base_uri": "https://localhost:8080/",
     "height": 50
    },
    "colab_type": "code",
    "id": "nVEHHZknOFYQ",
    "outputId": "b94e9ac0-f86e-4087-f4b6-a6a313e9127c"
   },
   "outputs": [
    {
     "name": "stdout",
     "output_type": "stream",
     "text": [
      "Min:  tensor(-0.8667)\n",
      "Max:  tensor(1.)\n"
     ]
    }
   ],
   "source": [
    "\"\"\"\n",
    "DON'T MODIFY ANYTHING IN THIS CELL THAT IS BELOW THIS LINE\n",
    "\"\"\"\n",
    "# check scaled range\n",
    "# should be close to -1 to 1\n",
    "img = images[0]\n",
    "scaled_img = scale(img)\n",
    "\n",
    "print('Min: ', scaled_img.min())\n",
    "print('Max: ', scaled_img.max())"
   ]
  },
  {
   "cell_type": "markdown",
   "metadata": {
    "colab_type": "text",
    "id": "o7bZFfnxOFYT"
   },
   "source": [
    "---\n",
    "# Define the Model\n",
    "\n",
    "A GAN is comprised of two adversarial networks, a discriminator and a generator.\n",
    "\n",
    "## Discriminator\n",
    "\n",
    "Your first task will be to define the discriminator. This is a convolutional classifier like you've built before, only without any maxpooling layers. To deal with this complex data, it's suggested you use a deep network with **normalization**. You are also allowed to create any helper functions that may be useful.\n",
    "\n",
    "#### Exercise: Complete the Discriminator class\n",
    "* The inputs to the discriminator are 32x32x3 tensor images\n",
    "* The output should be a single value that will indicate whether a given image is real or fake\n"
   ]
  },
  {
   "cell_type": "code",
   "execution_count": 0,
   "metadata": {
    "colab": {},
    "colab_type": "code",
    "id": "WBseCF2mOFYU"
   },
   "outputs": [],
   "source": [
    "import torch.nn as nn\n",
    "import torch.nn.functional as F"
   ]
  },
  {
   "cell_type": "code",
   "execution_count": 0,
   "metadata": {
    "colab": {},
    "colab_type": "code",
    "id": "_LLGTEOru8l4"
   },
   "outputs": [],
   "source": [
    "# Ref. https://github.com/udacity/deep-learning-v2-pytorch/blob/master/dcgan-svhn/DCGAN_Solution.ipynb\n",
    "# helper conv function\n",
    "def conv(in_channels, out_channels, kernel_size, stride=2, padding=1, batch_norm=True):\n",
    "    \"\"\"Creates a convolutional layer, with optional batch normalization.\n",
    "    \"\"\"\n",
    "    layers = []\n",
    "    conv_layer = nn.Conv2d(in_channels, out_channels, \n",
    "                           kernel_size, stride, padding, bias=False)\n",
    "    \n",
    "    # append conv layer\n",
    "    layers.append(conv_layer)\n",
    "\n",
    "    if batch_norm:\n",
    "        # append batchnorm layer\n",
    "        layers.append(nn.BatchNorm2d(out_channels))\n",
    "     \n",
    "    # using Sequential container\n",
    "    return nn.Sequential(*layers)"
   ]
  },
  {
   "cell_type": "code",
   "execution_count": 25,
   "metadata": {
    "colab": {
     "base_uri": "https://localhost:8080/",
     "height": 34
    },
    "colab_type": "code",
    "id": "rYURsptOOFYW",
    "outputId": "a7c4b1a7-1fba-4cde-9004-45bf637b83c2"
   },
   "outputs": [
    {
     "name": "stdout",
     "output_type": "stream",
     "text": [
      "Tests Passed\n"
     ]
    }
   ],
   "source": [
    "class Discriminator(nn.Module):\n",
    "\n",
    "    def __init__(self, conv_dim):\n",
    "        \"\"\"\n",
    "        Initialize the Discriminator Module\n",
    "        :param conv_dim: The depth of the first convolutional layer\n",
    "        \"\"\"\n",
    "        super(Discriminator, self).__init__()\n",
    "\n",
    "        # complete init function\n",
    "        self.conv_dim = conv_dim\n",
    "\n",
    "        # 32x32 input\n",
    "        self.conv1 = conv(3, conv_dim, 4, batch_norm=False) # first layer, no batch_norm\n",
    "        # 16x16 out\n",
    "        self.conv2 = conv(conv_dim, conv_dim*2, 4)\n",
    "        # 8x8 out\n",
    "        self.conv3 = conv(conv_dim*2, conv_dim*4, 4)\n",
    "        # 4x4 out\n",
    "        \n",
    "        # final, fully-connected layer\n",
    "        self.fc = nn.Linear(conv_dim*4*4*4, 1)\n",
    "        \n",
    "\n",
    "    def forward(self, x):\n",
    "        \"\"\"\n",
    "        Forward propagation of the neural network\n",
    "        :param x: The input to the neural network     \n",
    "        :return: Discriminator logits; the output of the neural network\n",
    "        \"\"\"\n",
    "        # define feedforward behavior\n",
    "        # all hidden layers + leaky relu activation\n",
    "        out = F.leaky_relu(self.conv1(x), 0.2)\n",
    "        out = F.leaky_relu(self.conv2(out), 0.2)\n",
    "        out = F.leaky_relu(self.conv3(out), 0.2)\n",
    "        \n",
    "        # flatten\n",
    "        out = out.view(-1, self.conv_dim*4*4*4)\n",
    "        \n",
    "        # final output layer\n",
    "        out = self.fc(out)\n",
    "        return out\n",
    "\n",
    "\n",
    "\"\"\"\n",
    "DON'T MODIFY ANYTHING IN THIS CELL THAT IS BELOW THIS LINE\n",
    "\"\"\"\n",
    "tests.test_discriminator(Discriminator)"
   ]
  },
  {
   "cell_type": "markdown",
   "metadata": {
    "colab_type": "text",
    "id": "OCWlSE5VOFYY"
   },
   "source": [
    "## Generator\n",
    "\n",
    "The generator should upsample an input and generate a *new* image of the same size as our training data `32x32x3`. This should be mostly transpose convolutional layers with normalization applied to the outputs.\n",
    "\n",
    "#### Exercise: Complete the Generator class\n",
    "* The inputs to the generator are vectors of some length `z_size`\n",
    "* The output should be a image of shape `32x32x3`"
   ]
  },
  {
   "cell_type": "code",
   "execution_count": 0,
   "metadata": {
    "colab": {},
    "colab_type": "code",
    "id": "uu1iJnObwEL5"
   },
   "outputs": [],
   "source": [
    "# Ref. https://github.com/udacity/deep-learning-v2-pytorch/blob/master/dcgan-svhn/DCGAN_Solution.ipynb\n",
    "# helper deconv function\n",
    "def deconv(in_channels, out_channels, kernel_size, stride=2, padding=1, batch_norm=True):\n",
    "    \"\"\"Creates a transposed-convolutional layer, with optional batch normalization.\n",
    "    \"\"\"\n",
    "    # create a sequence of transpose + optional batch norm layers\n",
    "    layers = []\n",
    "    transpose_conv_layer = nn.ConvTranspose2d(in_channels, out_channels, \n",
    "                                              kernel_size, stride, padding, bias=False)\n",
    "    # append transpose convolutional layer\n",
    "    layers.append(transpose_conv_layer)\n",
    "    \n",
    "    if batch_norm:\n",
    "        # append batchnorm layer\n",
    "        layers.append(nn.BatchNorm2d(out_channels))\n",
    "        \n",
    "    return nn.Sequential(*layers)"
   ]
  },
  {
   "cell_type": "code",
   "execution_count": 29,
   "metadata": {
    "colab": {
     "base_uri": "https://localhost:8080/",
     "height": 34
    },
    "colab_type": "code",
    "id": "isHSZbl4OFYZ",
    "outputId": "54651f69-80ce-4e6f-b356-ceac44eeb3c2"
   },
   "outputs": [
    {
     "name": "stdout",
     "output_type": "stream",
     "text": [
      "Tests Passed\n"
     ]
    }
   ],
   "source": [
    "class Generator(nn.Module):\n",
    "    \n",
    "    def __init__(self, z_size, conv_dim):\n",
    "        \"\"\"\n",
    "        Initialize the Generator Module\n",
    "        :param z_size: The length of the input latent vector, z\n",
    "        :param conv_dim: The depth of the inputs to the *last* transpose convolutional layer\n",
    "        \"\"\"\n",
    "        super(Generator, self).__init__()\n",
    "\n",
    "        # complete init function\n",
    "        self.conv_dim = conv_dim\n",
    "        \n",
    "        # first, fully-connected layer\n",
    "        self.fc = nn.Linear(z_size, conv_dim*4*4*4)\n",
    "\n",
    "        # transpose conv layers\n",
    "        self.t_conv1 = deconv(conv_dim*4, conv_dim*2, 4)\n",
    "        self.t_conv2 = deconv(conv_dim*2, conv_dim, 4)\n",
    "        self.t_conv3 = deconv(conv_dim, 3, 4, batch_norm=False)\n",
    "\n",
    "    def forward(self, x):\n",
    "        \"\"\"\n",
    "        Forward propagation of the neural network\n",
    "        :param x: The input to the neural network     \n",
    "        :return: A 32x32x3 Tensor image as output\n",
    "        \"\"\"\n",
    "        # define feedforward behavior\n",
    "        # fully-connected + reshape \n",
    "        out = self.fc(x)\n",
    "        out = out.view(-1, self.conv_dim*4, 4, 4) # (batch_size, depth, 4, 4)\n",
    "        \n",
    "        # hidden transpose conv layers + relu\n",
    "        out = F.relu(self.t_conv1(out))\n",
    "        out = F.relu(self.t_conv2(out))\n",
    "        \n",
    "        # last layer + tanh activation\n",
    "        out = self.t_conv3(out)\n",
    "        out = torch.tanh(out)  # Should use torch.tanh instead of F.tanh\n",
    "        return out\n",
    "\n",
    "\"\"\"\n",
    "DON'T MODIFY ANYTHING IN THIS CELL THAT IS BELOW THIS LINE\n",
    "\"\"\"\n",
    "tests.test_generator(Generator)"
   ]
  },
  {
   "cell_type": "markdown",
   "metadata": {
    "colab_type": "text",
    "id": "-hTu5D1QOFYb"
   },
   "source": [
    "## Initialize the weights of your networks\n",
    "\n",
    "To help your models converge, you should initialize the weights of the convolutional and linear layers in your model. From reading the [original DCGAN paper](https://arxiv.org/pdf/1511.06434.pdf), they say:\n",
    "> All weights were initialized from a zero-centered Normal distribution with standard deviation 0.02.\n",
    "\n",
    "So, your next task will be to define a weight initialization function that does just this!\n",
    "\n",
    "You can refer back to the lesson on weight initialization or even consult existing model code, such as that from [the `networks.py` file in CycleGAN Github repository](https://github.com/junyanz/pytorch-CycleGAN-and-pix2pix/blob/master/models/networks.py) to help you complete this function.\n",
    "\n",
    "#### Exercise: Complete the weight initialization function\n",
    "\n",
    "* This should initialize only **convolutional** and **linear** layers\n",
    "* Initialize the weights to a normal distribution, centered around 0, with a standard deviation of 0.02.\n",
    "* The bias terms, if they exist, may be left alone or set to 0."
   ]
  },
  {
   "cell_type": "code",
   "execution_count": 0,
   "metadata": {
    "colab": {},
    "colab_type": "code",
    "id": "EQuM0XrMy35L"
   },
   "outputs": [],
   "source": [
    "from torch.nn import init"
   ]
  },
  {
   "cell_type": "code",
   "execution_count": 0,
   "metadata": {
    "colab": {},
    "colab_type": "code",
    "id": "7vYYtGz9OFYc"
   },
   "outputs": [],
   "source": [
    "def weights_init_normal(m):\n",
    "    \"\"\"\n",
    "    Applies initial weights to certain layers in a model .\n",
    "    The weights are taken from a normal distribution \n",
    "    with mean = 0, std dev = 0.02.\n",
    "    :param m: A module or layer in a network    \n",
    "    \"\"\"\n",
    "    # classname will be something like:\n",
    "    # `Conv`, `BatchNorm2d`, `Linear`, etc.\n",
    "    classname = m.__class__.__name__\n",
    "    \n",
    "    # TODO: Apply initial weights to convolutional and linear layers\n",
    "    # Ref. https://github.com/junyanz/pytorch-CycleGAN-and-pix2pix/blob/master/models/networks.py\n",
    "    if hasattr(m, 'weight') and (classname.find('Conv') != -1 or \n",
    "                                 classname.find('Linear') != -1):\n",
    "        init.normal_(m.weight.data, 0.0, 0.02)\n",
    "        if hasattr(m, 'bias') and m.bias is not None:\n",
    "                init.constant_(m.bias.data, 0.0)"
   ]
  },
  {
   "cell_type": "markdown",
   "metadata": {
    "colab_type": "text",
    "collapsed": true,
    "id": "7Bst2F-nOFYd"
   },
   "source": [
    "## Build complete network\n",
    "\n",
    "Define your models' hyperparameters and instantiate the discriminator and generator from the classes defined above. Make sure you've passed in the correct input arguments."
   ]
  },
  {
   "cell_type": "code",
   "execution_count": 0,
   "metadata": {
    "colab": {},
    "colab_type": "code",
    "id": "zV_4O8iuOFYe"
   },
   "outputs": [],
   "source": [
    "\"\"\"\n",
    "DON'T MODIFY ANYTHING IN THIS CELL THAT IS BELOW THIS LINE\n",
    "\"\"\"\n",
    "def build_network(d_conv_dim, g_conv_dim, z_size):\n",
    "    # define discriminator and generator\n",
    "    D = Discriminator(d_conv_dim)\n",
    "    G = Generator(z_size=z_size, conv_dim=g_conv_dim)\n",
    "\n",
    "    # initialize model weights\n",
    "    D.apply(weights_init_normal)\n",
    "    G.apply(weights_init_normal)\n",
    "\n",
    "    print(D)\n",
    "    print()\n",
    "    print(G)\n",
    "    \n",
    "    return D, G\n"
   ]
  },
  {
   "cell_type": "markdown",
   "metadata": {
    "colab_type": "text",
    "id": "cnsnHnn5OFYf"
   },
   "source": [
    "#### Exercise: Define model hyperparameters"
   ]
  },
  {
   "cell_type": "code",
   "execution_count": 35,
   "metadata": {
    "colab": {
     "base_uri": "https://localhost:8080/",
     "height": 504
    },
    "colab_type": "code",
    "id": "Zi097JXxOFYg",
    "outputId": "c467c48e-5b02-41b4-c6dd-73ee7848b5a0"
   },
   "outputs": [
    {
     "name": "stdout",
     "output_type": "stream",
     "text": [
      "Discriminator(\n",
      "  (conv1): Sequential(\n",
      "    (0): Conv2d(3, 32, kernel_size=(4, 4), stride=(2, 2), padding=(1, 1), bias=False)\n",
      "  )\n",
      "  (conv2): Sequential(\n",
      "    (0): Conv2d(32, 64, kernel_size=(4, 4), stride=(2, 2), padding=(1, 1), bias=False)\n",
      "    (1): BatchNorm2d(64, eps=1e-05, momentum=0.1, affine=True, track_running_stats=True)\n",
      "  )\n",
      "  (conv3): Sequential(\n",
      "    (0): Conv2d(64, 128, kernel_size=(4, 4), stride=(2, 2), padding=(1, 1), bias=False)\n",
      "    (1): BatchNorm2d(128, eps=1e-05, momentum=0.1, affine=True, track_running_stats=True)\n",
      "  )\n",
      "  (fc): Linear(in_features=2048, out_features=1, bias=True)\n",
      ")\n",
      "\n",
      "Generator(\n",
      "  (fc): Linear(in_features=128, out_features=2048, bias=True)\n",
      "  (t_conv1): Sequential(\n",
      "    (0): ConvTranspose2d(128, 64, kernel_size=(4, 4), stride=(2, 2), padding=(1, 1), bias=False)\n",
      "    (1): BatchNorm2d(64, eps=1e-05, momentum=0.1, affine=True, track_running_stats=True)\n",
      "  )\n",
      "  (t_conv2): Sequential(\n",
      "    (0): ConvTranspose2d(64, 32, kernel_size=(4, 4), stride=(2, 2), padding=(1, 1), bias=False)\n",
      "    (1): BatchNorm2d(32, eps=1e-05, momentum=0.1, affine=True, track_running_stats=True)\n",
      "  )\n",
      "  (t_conv3): Sequential(\n",
      "    (0): ConvTranspose2d(32, 3, kernel_size=(4, 4), stride=(2, 2), padding=(1, 1), bias=False)\n",
      "  )\n",
      ")\n"
     ]
    }
   ],
   "source": [
    "# Define model hyperparams\n",
    "d_conv_dim = 32\n",
    "g_conv_dim = 32\n",
    "z_size = 2**7\n",
    "\n",
    "\"\"\"\n",
    "DON'T MODIFY ANYTHING IN THIS CELL THAT IS BELOW THIS LINE\n",
    "\"\"\"\n",
    "D, G = build_network(d_conv_dim, g_conv_dim, z_size)"
   ]
  },
  {
   "cell_type": "markdown",
   "metadata": {
    "colab_type": "text",
    "id": "oCFvygRvOFYh"
   },
   "source": [
    "### Training on GPU\n",
    "\n",
    "Check if you can train on GPU. Here, we'll set this as a boolean variable `train_on_gpu`. Later, you'll be responsible for making sure that \n",
    ">* Models,\n",
    "* Model inputs, and\n",
    "* Loss function arguments\n",
    "\n",
    "Are moved to GPU, where appropriate."
   ]
  },
  {
   "cell_type": "code",
   "execution_count": 36,
   "metadata": {
    "colab": {
     "base_uri": "https://localhost:8080/",
     "height": 34
    },
    "colab_type": "code",
    "id": "US5ZymUUOFYi",
    "outputId": "5c0abd2c-4903-4afb-bf51-146bfdfa1703"
   },
   "outputs": [
    {
     "name": "stdout",
     "output_type": "stream",
     "text": [
      "Training on GPU!\n"
     ]
    }
   ],
   "source": [
    "\"\"\"\n",
    "DON'T MODIFY ANYTHING IN THIS CELL\n",
    "\"\"\"\n",
    "import torch\n",
    "\n",
    "# Check for a GPU\n",
    "train_on_gpu = torch.cuda.is_available()\n",
    "if not train_on_gpu:\n",
    "    print('No GPU found. Please use a GPU to train your neural network.')\n",
    "else:\n",
    "    print('Training on GPU!')"
   ]
  },
  {
   "cell_type": "markdown",
   "metadata": {
    "colab_type": "text",
    "id": "W-rVk3ANOFYo"
   },
   "source": [
    "---\n",
    "## Discriminator and Generator Losses\n",
    "\n",
    "Now we need to calculate the losses for both types of adversarial networks.\n",
    "\n",
    "### Discriminator Losses\n",
    "\n",
    "> * For the discriminator, the total loss is the sum of the losses for real and fake images, `d_loss = d_real_loss + d_fake_loss`. \n",
    "* Remember that we want the discriminator to output 1 for real images and 0 for fake images, so we need to set up the losses to reflect that.\n",
    "\n",
    "\n",
    "### Generator Loss\n",
    "\n",
    "The generator loss will look similar only with flipped labels. The generator's goal is to get the discriminator to *think* its generated images are *real*.\n",
    "\n",
    "#### Exercise: Complete real and fake loss functions\n",
    "\n",
    "**You may choose to use either cross entropy or a least squares error loss to complete the following `real_loss` and `fake_loss` functions.**"
   ]
  },
  {
   "cell_type": "code",
   "execution_count": 0,
   "metadata": {
    "colab": {},
    "colab_type": "code",
    "id": "Pj5yRDQeOFYr"
   },
   "outputs": [],
   "source": [
    "# Ref. https://github.com/udacity/deep-learning-v2-pytorch/blob/master/dcgan-svhn/DCGAN_Solution.ipynb\n",
    "def real_loss(D_out, smooth=False):\n",
    "    '''Calculates how close discriminator outputs are to being real.\n",
    "       param, D_out: discriminator logits\n",
    "       return: real loss'''\n",
    "    batch_size = D_out.size(0)\n",
    "    # label smoothing\n",
    "    if smooth:\n",
    "        # smooth, real labels = 0.9\n",
    "        labels = torch.ones(batch_size)*0.9\n",
    "    else:\n",
    "        labels = torch.ones(batch_size) # real labels = 1\n",
    "    # move labels to GPU if available     \n",
    "    if train_on_gpu:\n",
    "        labels = labels.cuda()\n",
    "    # binary cross entropy with logits loss\n",
    "    criterion = nn.BCEWithLogitsLoss()\n",
    "    # calculate loss\n",
    "    loss = criterion(D_out.squeeze(), labels) \n",
    "    return loss\n",
    "\n",
    "def fake_loss(D_out):\n",
    "    '''Calculates how close discriminator outputs are to being fake.\n",
    "       param, D_out: discriminator logits\n",
    "       return: fake loss'''\n",
    "    batch_size = D_out.size(0)\n",
    "    labels = torch.zeros(batch_size) # fake labels = 0\n",
    "    if train_on_gpu:\n",
    "        labels = labels.cuda()\n",
    "    criterion = nn.BCEWithLogitsLoss()\n",
    "    # calculate loss\n",
    "    loss = criterion(D_out.squeeze(), labels)\n",
    "    return loss"
   ]
  },
  {
   "cell_type": "markdown",
   "metadata": {
    "colab_type": "text",
    "id": "kDjTYkJ0OFYt"
   },
   "source": [
    "## Optimizers\n",
    "\n",
    "#### Exercise: Define optimizers for your Discriminator (D) and Generator (G)\n",
    "\n",
    "Define optimizers for your models with appropriate hyperparameters."
   ]
  },
  {
   "cell_type": "code",
   "execution_count": 0,
   "metadata": {
    "colab": {},
    "colab_type": "code",
    "id": "ZYxJJnOEOFYu"
   },
   "outputs": [],
   "source": [
    "import torch.optim as optim\n",
    "\n",
    "# params\n",
    "lr = 0.0002\n",
    "beta1=0.5\n",
    "beta2=0.999 # default value\n",
    "\n",
    "# Create optimizers for the discriminator and generator\n",
    "d_optimizer = optim.Adam(D.parameters(), lr, [beta1, beta2])\n",
    "g_optimizer = optim.Adam(G.parameters(), lr, [beta1, beta2])"
   ]
  },
  {
   "cell_type": "markdown",
   "metadata": {
    "colab_type": "text",
    "id": "kTdF-DtBOFYy"
   },
   "source": [
    "---\n",
    "## Training\n",
    "\n",
    "Training will involve alternating between training the discriminator and the generator. You'll use your functions `real_loss` and `fake_loss` to help you calculate the discriminator losses.\n",
    "\n",
    "* You should train the discriminator by alternating on real and fake images\n",
    "* Then the generator, which tries to trick the discriminator and should have an opposing loss function\n",
    "\n",
    "\n",
    "#### Saving Samples\n",
    "\n",
    "You've been given some code to print out some loss statistics and save some generated \"fake\" samples."
   ]
  },
  {
   "cell_type": "markdown",
   "metadata": {
    "colab_type": "text",
    "id": "fH3m1KnvOFYy"
   },
   "source": [
    "#### Exercise: Complete the training function\n",
    "\n",
    "Keep in mind that, if you've moved your models to GPU, you'll also have to move any model inputs to GPU."
   ]
  },
  {
   "cell_type": "code",
   "execution_count": 0,
   "metadata": {
    "colab": {},
    "colab_type": "code",
    "id": "qGz2xIp6OFYz"
   },
   "outputs": [],
   "source": [
    "def train(D, G, n_epochs, print_every=50):\n",
    "    '''Trains adversarial networks for some number of epochs\n",
    "       param, D: the discriminator network\n",
    "       param, G: the generator network\n",
    "       param, n_epochs: number of epochs to train for\n",
    "       param, print_every: when to print and record the models' losses\n",
    "       return: D and G losses'''\n",
    "    \n",
    "    # move models to GPU\n",
    "    if train_on_gpu:\n",
    "        D.cuda()\n",
    "        G.cuda()\n",
    "\n",
    "    # keep track of loss and generated, \"fake\" samples\n",
    "    samples = []\n",
    "    losses = []\n",
    "\n",
    "    # Get some fixed data for sampling. These are images that are held\n",
    "    # constant throughout training, and allow us to inspect the model's performance\n",
    "    sample_size=16\n",
    "    fixed_z = np.random.uniform(-1, 1, size=(sample_size, z_size))\n",
    "    fixed_z = torch.from_numpy(fixed_z).float()\n",
    "    # move z to GPU if available\n",
    "    if train_on_gpu:\n",
    "        fixed_z = fixed_z.cuda()\n",
    "\n",
    "    # epoch training loop\n",
    "    for epoch in range(n_epochs):\n",
    "\n",
    "        # batch training loop\n",
    "        for batch_i, (real_images, _) in enumerate(celeba_train_loader):\n",
    "\n",
    "            batch_size = real_images.size(0)\n",
    "            real_images = scale(real_images)\n",
    "\n",
    "            # ===============================================\n",
    "            #         YOUR CODE HERE: TRAIN THE NETWORKS\n",
    "            # ===============================================\n",
    "            \n",
    "            # 1. Train the discriminator on real and fake images\n",
    "            d_optimizer.zero_grad()\n",
    "        \n",
    "            # 1. Train with real images\n",
    "\n",
    "            # Compute the discriminator losses on real images \n",
    "            if train_on_gpu:\n",
    "                real_images = real_images.cuda()\n",
    "            \n",
    "            D_real = D(real_images)\n",
    "            d_real_loss = real_loss(D_real)\n",
    "            \n",
    "            # 2. Train with fake images\n",
    "            \n",
    "            # Generate fake images\n",
    "            z = np.random.uniform(-1, 1, size=(batch_size, z_size))\n",
    "            z = torch.from_numpy(z).float()\n",
    "            # move x to GPU, if available\n",
    "            if train_on_gpu:\n",
    "                z = z.cuda()\n",
    "            fake_images = G(z)\n",
    "            \n",
    "            # Compute the discriminator losses on fake images            \n",
    "            D_fake = D(fake_images)\n",
    "            d_fake_loss = fake_loss(D_fake)\n",
    "            \n",
    "            # add up loss and perform backprop\n",
    "            d_loss = d_real_loss + d_fake_loss\n",
    "            d_loss.backward()\n",
    "            d_optimizer.step()\n",
    "\n",
    "            # 2. Train the generator with an adversarial loss\n",
    "            g_optimizer.zero_grad()\n",
    "        \n",
    "            # 1. Train with fake images and flipped labels\n",
    "            \n",
    "            # Generate fake images\n",
    "            z = np.random.uniform(-1, 1, size=(batch_size, z_size))\n",
    "            z = torch.from_numpy(z).float()\n",
    "            if train_on_gpu:\n",
    "                z = z.cuda()\n",
    "            fake_images = G(z)\n",
    "            \n",
    "            # Compute the discriminator losses on fake images \n",
    "            # using flipped labels!\n",
    "            D_fake = D(fake_images)\n",
    "            g_loss = real_loss(D_fake) # use real loss to flip labels\n",
    "            \n",
    "            # perform backprop\n",
    "            g_loss.backward()\n",
    "            g_optimizer.step()\n",
    "            \n",
    "            \n",
    "            # ===============================================\n",
    "            #              END OF YOUR CODE\n",
    "            # ===============================================\n",
    "\n",
    "            # Print some loss stats\n",
    "            if batch_i % print_every == 0:\n",
    "                # append discriminator loss and generator loss\n",
    "                losses.append((d_loss.item(), g_loss.item()))\n",
    "                # print discriminator and generator loss\n",
    "                print('Epoch [{:5d}/{:5d}] | d_loss: {:6.4f} | g_loss: {:6.4f}'.format(\n",
    "                        epoch+1, n_epochs, d_loss.item(), g_loss.item()))\n",
    "\n",
    "\n",
    "        ## AFTER EACH EPOCH##    \n",
    "        # this code assumes your generator is named G, feel free to change the name\n",
    "        # generate and save sample, fake images\n",
    "        G.eval() # for generating samples\n",
    "        samples_z = G(fixed_z)\n",
    "        samples.append(samples_z)\n",
    "        G.train() # back to training mode\n",
    "\n",
    "    # Save training generator samples\n",
    "    with open('train_samples.pkl', 'wb') as f:\n",
    "        pkl.dump(samples, f)\n",
    "    \n",
    "    # finally return losses\n",
    "    return losses"
   ]
  },
  {
   "cell_type": "markdown",
   "metadata": {
    "colab_type": "text",
    "id": "vCazr7oCOFY0"
   },
   "source": [
    "Set your number of training epochs and train your GAN!"
   ]
  },
  {
   "cell_type": "code",
   "execution_count": 46,
   "metadata": {
    "colab": {
     "base_uri": "https://localhost:8080/",
     "height": 1000
    },
    "colab_type": "code",
    "id": "JRtw6jaqOFY1",
    "outputId": "841ec2ed-3b4a-461d-9459-198b1689883d"
   },
   "outputs": [
    {
     "name": "stdout",
     "output_type": "stream",
     "text": [
      "Epoch [    1/   20] | d_loss: 1.3393 | g_loss: 0.8524\n",
      "Epoch [    1/   20] | d_loss: 0.2070 | g_loss: 2.8207\n",
      "Epoch [    1/   20] | d_loss: 0.1233 | g_loss: 3.8368\n",
      "Epoch [    1/   20] | d_loss: 0.1634 | g_loss: 3.5215\n",
      "Epoch [    1/   20] | d_loss: 0.2419 | g_loss: 2.8547\n",
      "Epoch [    1/   20] | d_loss: 2.1843 | g_loss: 0.1168\n",
      "Epoch [    1/   20] | d_loss: 0.3366 | g_loss: 2.7781\n",
      "Epoch [    1/   20] | d_loss: 0.4636 | g_loss: 2.1070\n",
      "Epoch [    1/   20] | d_loss: 0.6336 | g_loss: 1.9094\n",
      "Epoch [    1/   20] | d_loss: 1.0098 | g_loss: 1.1742\n",
      "Epoch [    1/   20] | d_loss: 0.6596 | g_loss: 2.4987\n",
      "Epoch [    1/   20] | d_loss: 1.0119 | g_loss: 0.7994\n",
      "Epoch [    1/   20] | d_loss: 0.9894 | g_loss: 1.0279\n",
      "Epoch [    1/   20] | d_loss: 1.0037 | g_loss: 1.0322\n",
      "Epoch [    1/   20] | d_loss: 0.9259 | g_loss: 1.2755\n",
      "Epoch [    2/   20] | d_loss: 1.1474 | g_loss: 1.4419\n",
      "Epoch [    2/   20] | d_loss: 0.8320 | g_loss: 1.4593\n",
      "Epoch [    2/   20] | d_loss: 1.1489 | g_loss: 0.9500\n",
      "Epoch [    2/   20] | d_loss: 1.1384 | g_loss: 0.7688\n",
      "Epoch [    2/   20] | d_loss: 1.1259 | g_loss: 0.9103\n",
      "Epoch [    2/   20] | d_loss: 1.0964 | g_loss: 1.3249\n",
      "Epoch [    2/   20] | d_loss: 1.0954 | g_loss: 1.2963\n",
      "Epoch [    2/   20] | d_loss: 1.1163 | g_loss: 0.8494\n",
      "Epoch [    2/   20] | d_loss: 1.2901 | g_loss: 1.0431\n",
      "Epoch [    2/   20] | d_loss: 1.0636 | g_loss: 1.0524\n",
      "Epoch [    2/   20] | d_loss: 1.2502 | g_loss: 1.4005\n",
      "Epoch [    2/   20] | d_loss: 0.9758 | g_loss: 1.5715\n",
      "Epoch [    2/   20] | d_loss: 1.0821 | g_loss: 1.1306\n",
      "Epoch [    2/   20] | d_loss: 1.1821 | g_loss: 0.8313\n",
      "Epoch [    2/   20] | d_loss: 1.0719 | g_loss: 1.3302\n",
      "Epoch [    3/   20] | d_loss: 1.0405 | g_loss: 1.1459\n",
      "Epoch [    3/   20] | d_loss: 1.1386 | g_loss: 1.1500\n",
      "Epoch [    3/   20] | d_loss: 1.2143 | g_loss: 1.1296\n",
      "Epoch [    3/   20] | d_loss: 1.0313 | g_loss: 1.2313\n",
      "Epoch [    3/   20] | d_loss: 1.1794 | g_loss: 1.2262\n",
      "Epoch [    3/   20] | d_loss: 0.8670 | g_loss: 1.5408\n",
      "Epoch [    3/   20] | d_loss: 1.0552 | g_loss: 1.1726\n",
      "Epoch [    3/   20] | d_loss: 0.9953 | g_loss: 0.8281\n",
      "Epoch [    3/   20] | d_loss: 1.0969 | g_loss: 1.0901\n",
      "Epoch [    3/   20] | d_loss: 1.0136 | g_loss: 1.1168\n",
      "Epoch [    3/   20] | d_loss: 1.1411 | g_loss: 1.4481\n",
      "Epoch [    3/   20] | d_loss: 1.0704 | g_loss: 0.9852\n",
      "Epoch [    3/   20] | d_loss: 1.0744 | g_loss: 1.2857\n",
      "Epoch [    3/   20] | d_loss: 1.0922 | g_loss: 1.1139\n",
      "Epoch [    3/   20] | d_loss: 1.5537 | g_loss: 0.2054\n",
      "Epoch [    4/   20] | d_loss: 1.2914 | g_loss: 0.7199\n",
      "Epoch [    4/   20] | d_loss: 1.0131 | g_loss: 0.7055\n",
      "Epoch [    4/   20] | d_loss: 1.1389 | g_loss: 0.7917\n",
      "Epoch [    4/   20] | d_loss: 0.9199 | g_loss: 1.2274\n",
      "Epoch [    4/   20] | d_loss: 1.0174 | g_loss: 1.1063\n",
      "Epoch [    4/   20] | d_loss: 1.1911 | g_loss: 0.9045\n",
      "Epoch [    4/   20] | d_loss: 1.0911 | g_loss: 0.9766\n",
      "Epoch [    4/   20] | d_loss: 1.0853 | g_loss: 1.0859\n",
      "Epoch [    4/   20] | d_loss: 1.1539 | g_loss: 0.9366\n",
      "Epoch [    4/   20] | d_loss: 1.0554 | g_loss: 1.1184\n",
      "Epoch [    4/   20] | d_loss: 1.1566 | g_loss: 1.0454\n",
      "Epoch [    4/   20] | d_loss: 1.0001 | g_loss: 1.3066\n",
      "Epoch [    4/   20] | d_loss: 1.2048 | g_loss: 0.6363\n",
      "Epoch [    4/   20] | d_loss: 1.1257 | g_loss: 1.1154\n",
      "Epoch [    4/   20] | d_loss: 1.0003 | g_loss: 0.9599\n",
      "Epoch [    5/   20] | d_loss: 1.1894 | g_loss: 1.5605\n",
      "Epoch [    5/   20] | d_loss: 1.0387 | g_loss: 1.2909\n",
      "Epoch [    5/   20] | d_loss: 1.0159 | g_loss: 1.3224\n",
      "Epoch [    5/   20] | d_loss: 1.2255 | g_loss: 1.0228\n",
      "Epoch [    5/   20] | d_loss: 0.8327 | g_loss: 1.3925\n",
      "Epoch [    5/   20] | d_loss: 1.0935 | g_loss: 1.2673\n",
      "Epoch [    5/   20] | d_loss: 1.0484 | g_loss: 1.2634\n",
      "Epoch [    5/   20] | d_loss: 0.8808 | g_loss: 1.2505\n",
      "Epoch [    5/   20] | d_loss: 1.0032 | g_loss: 1.0852\n",
      "Epoch [    5/   20] | d_loss: 1.0484 | g_loss: 1.3036\n",
      "Epoch [    5/   20] | d_loss: 1.0764 | g_loss: 0.5281\n",
      "Epoch [    5/   20] | d_loss: 0.8797 | g_loss: 1.2781\n",
      "Epoch [    5/   20] | d_loss: 1.1282 | g_loss: 0.8264\n",
      "Epoch [    5/   20] | d_loss: 1.0941 | g_loss: 1.0222\n",
      "Epoch [    5/   20] | d_loss: 1.2493 | g_loss: 0.7702\n",
      "Epoch [    6/   20] | d_loss: 1.1180 | g_loss: 1.4258\n",
      "Epoch [    6/   20] | d_loss: 1.0579 | g_loss: 0.7999\n",
      "Epoch [    6/   20] | d_loss: 1.0717 | g_loss: 1.4560\n",
      "Epoch [    6/   20] | d_loss: 1.3604 | g_loss: 0.4460\n",
      "Epoch [    6/   20] | d_loss: 1.1328 | g_loss: 1.0679\n",
      "Epoch [    6/   20] | d_loss: 1.0381 | g_loss: 1.1364\n",
      "Epoch [    6/   20] | d_loss: 0.9730 | g_loss: 1.7758\n",
      "Epoch [    6/   20] | d_loss: 1.0286 | g_loss: 1.2040\n",
      "Epoch [    6/   20] | d_loss: 1.2447 | g_loss: 1.7018\n",
      "Epoch [    6/   20] | d_loss: 0.9911 | g_loss: 1.1130\n",
      "Epoch [    6/   20] | d_loss: 0.8623 | g_loss: 1.3200\n",
      "Epoch [    6/   20] | d_loss: 0.9377 | g_loss: 1.1024\n",
      "Epoch [    6/   20] | d_loss: 1.1774 | g_loss: 1.0881\n",
      "Epoch [    6/   20] | d_loss: 0.9056 | g_loss: 0.8366\n",
      "Epoch [    6/   20] | d_loss: 0.9127 | g_loss: 1.7411\n",
      "Epoch [    7/   20] | d_loss: 1.0170 | g_loss: 1.1451\n",
      "Epoch [    7/   20] | d_loss: 0.9126 | g_loss: 1.0381\n",
      "Epoch [    7/   20] | d_loss: 1.6601 | g_loss: 2.3229\n",
      "Epoch [    7/   20] | d_loss: 0.8781 | g_loss: 1.5072\n",
      "Epoch [    7/   20] | d_loss: 0.9093 | g_loss: 1.3619\n",
      "Epoch [    7/   20] | d_loss: 0.9857 | g_loss: 1.1394\n",
      "Epoch [    7/   20] | d_loss: 1.1930 | g_loss: 1.2581\n",
      "Epoch [    7/   20] | d_loss: 0.9852 | g_loss: 0.9967\n",
      "Epoch [    7/   20] | d_loss: 1.0398 | g_loss: 1.4858\n",
      "Epoch [    7/   20] | d_loss: 0.9667 | g_loss: 1.8851\n",
      "Epoch [    7/   20] | d_loss: 0.9733 | g_loss: 1.3632\n",
      "Epoch [    7/   20] | d_loss: 1.1992 | g_loss: 0.5663\n",
      "Epoch [    7/   20] | d_loss: 0.9932 | g_loss: 1.2553\n",
      "Epoch [    7/   20] | d_loss: 1.0036 | g_loss: 1.3534\n",
      "Epoch [    7/   20] | d_loss: 0.9748 | g_loss: 1.0931\n",
      "Epoch [    8/   20] | d_loss: 1.0359 | g_loss: 1.3725\n",
      "Epoch [    8/   20] | d_loss: 1.0559 | g_loss: 1.8413\n",
      "Epoch [    8/   20] | d_loss: 0.9412 | g_loss: 1.0561\n",
      "Epoch [    8/   20] | d_loss: 1.0652 | g_loss: 0.9232\n",
      "Epoch [    8/   20] | d_loss: 0.8918 | g_loss: 1.4908\n",
      "Epoch [    8/   20] | d_loss: 0.8816 | g_loss: 1.5421\n",
      "Epoch [    8/   20] | d_loss: 0.9297 | g_loss: 1.4923\n",
      "Epoch [    8/   20] | d_loss: 0.8802 | g_loss: 0.8761\n",
      "Epoch [    8/   20] | d_loss: 1.1192 | g_loss: 1.7208\n",
      "Epoch [    8/   20] | d_loss: 0.9483 | g_loss: 1.6452\n",
      "Epoch [    8/   20] | d_loss: 0.8524 | g_loss: 1.4533\n",
      "Epoch [    8/   20] | d_loss: 0.9154 | g_loss: 1.1769\n",
      "Epoch [    8/   20] | d_loss: 1.1649 | g_loss: 2.5308\n",
      "Epoch [    8/   20] | d_loss: 0.9889 | g_loss: 1.1724\n",
      "Epoch [    8/   20] | d_loss: 0.9098 | g_loss: 1.3526\n",
      "Epoch [    9/   20] | d_loss: 0.9326 | g_loss: 1.0286\n",
      "Epoch [    9/   20] | d_loss: 1.1149 | g_loss: 0.5691\n",
      "Epoch [    9/   20] | d_loss: 1.0667 | g_loss: 1.7636\n",
      "Epoch [    9/   20] | d_loss: 2.0079 | g_loss: 0.1161\n",
      "Epoch [    9/   20] | d_loss: 0.8936 | g_loss: 1.0263\n",
      "Epoch [    9/   20] | d_loss: 1.0020 | g_loss: 0.9388\n",
      "Epoch [    9/   20] | d_loss: 0.8380 | g_loss: 1.5688\n",
      "Epoch [    9/   20] | d_loss: 0.9228 | g_loss: 1.2773\n",
      "Epoch [    9/   20] | d_loss: 0.9183 | g_loss: 1.1660\n",
      "Epoch [    9/   20] | d_loss: 0.8613 | g_loss: 1.2871\n",
      "Epoch [    9/   20] | d_loss: 0.8673 | g_loss: 1.0723\n",
      "Epoch [    9/   20] | d_loss: 0.9835 | g_loss: 1.2730\n",
      "Epoch [    9/   20] | d_loss: 0.8842 | g_loss: 1.1534\n",
      "Epoch [    9/   20] | d_loss: 0.9620 | g_loss: 0.9652\n",
      "Epoch [    9/   20] | d_loss: 0.9543 | g_loss: 1.2044\n",
      "Epoch [   10/   20] | d_loss: 0.8498 | g_loss: 0.9622\n",
      "Epoch [   10/   20] | d_loss: 0.9017 | g_loss: 1.2061\n",
      "Epoch [   10/   20] | d_loss: 0.7784 | g_loss: 1.1289\n",
      "Epoch [   10/   20] | d_loss: 0.9762 | g_loss: 1.1130\n",
      "Epoch [   10/   20] | d_loss: 0.9345 | g_loss: 1.3371\n",
      "Epoch [   10/   20] | d_loss: 0.9182 | g_loss: 1.6470\n",
      "Epoch [   10/   20] | d_loss: 0.8566 | g_loss: 1.4905\n",
      "Epoch [   10/   20] | d_loss: 0.9327 | g_loss: 1.3376\n",
      "Epoch [   10/   20] | d_loss: 1.0233 | g_loss: 1.0163\n",
      "Epoch [   10/   20] | d_loss: 0.9315 | g_loss: 0.9860\n",
      "Epoch [   10/   20] | d_loss: 1.2766 | g_loss: 1.3758\n",
      "Epoch [   10/   20] | d_loss: 0.9613 | g_loss: 1.3249\n",
      "Epoch [   10/   20] | d_loss: 0.8889 | g_loss: 1.1782\n",
      "Epoch [   10/   20] | d_loss: 1.5530 | g_loss: 2.9506\n",
      "Epoch [   10/   20] | d_loss: 0.8896 | g_loss: 1.4184\n",
      "Epoch [   11/   20] | d_loss: 0.7805 | g_loss: 1.4265\n",
      "Epoch [   11/   20] | d_loss: 0.7532 | g_loss: 1.5945\n",
      "Epoch [   11/   20] | d_loss: 0.9731 | g_loss: 0.8536\n",
      "Epoch [   11/   20] | d_loss: 0.9817 | g_loss: 1.0170\n",
      "Epoch [   11/   20] | d_loss: 1.0269 | g_loss: 1.0917\n",
      "Epoch [   11/   20] | d_loss: 0.8643 | g_loss: 1.4295\n",
      "Epoch [   11/   20] | d_loss: 0.8404 | g_loss: 1.2197\n",
      "Epoch [   11/   20] | d_loss: 0.7233 | g_loss: 1.3134\n",
      "Epoch [   11/   20] | d_loss: 0.9554 | g_loss: 1.0170\n",
      "Epoch [   11/   20] | d_loss: 0.8471 | g_loss: 1.3966\n",
      "Epoch [   11/   20] | d_loss: 0.8881 | g_loss: 1.2201\n",
      "Epoch [   11/   20] | d_loss: 0.9730 | g_loss: 1.5651\n",
      "Epoch [   11/   20] | d_loss: 0.9062 | g_loss: 0.9876\n",
      "Epoch [   11/   20] | d_loss: 0.9477 | g_loss: 0.9493\n",
      "Epoch [   11/   20] | d_loss: 0.7636 | g_loss: 1.6029\n",
      "Epoch [   12/   20] | d_loss: 0.9205 | g_loss: 1.3693\n",
      "Epoch [   12/   20] | d_loss: 0.9854 | g_loss: 1.3001\n",
      "Epoch [   12/   20] | d_loss: 0.8886 | g_loss: 1.3238\n",
      "Epoch [   12/   20] | d_loss: 0.8802 | g_loss: 1.6027\n",
      "Epoch [   12/   20] | d_loss: 1.0424 | g_loss: 0.9439\n",
      "Epoch [   12/   20] | d_loss: 0.8972 | g_loss: 0.5947\n",
      "Epoch [   12/   20] | d_loss: 0.7837 | g_loss: 1.6273\n",
      "Epoch [   12/   20] | d_loss: 0.8529 | g_loss: 1.2881\n",
      "Epoch [   12/   20] | d_loss: 1.0341 | g_loss: 1.2942\n",
      "Epoch [   12/   20] | d_loss: 0.8494 | g_loss: 1.7155\n",
      "Epoch [   12/   20] | d_loss: 0.8706 | g_loss: 1.2145\n",
      "Epoch [   12/   20] | d_loss: 0.9396 | g_loss: 0.8249\n",
      "Epoch [   12/   20] | d_loss: 0.7108 | g_loss: 1.2966\n",
      "Epoch [   12/   20] | d_loss: 0.9025 | g_loss: 1.0581\n",
      "Epoch [   12/   20] | d_loss: 0.8584 | g_loss: 1.7587\n",
      "Epoch [   13/   20] | d_loss: 0.8250 | g_loss: 0.8192\n",
      "Epoch [   13/   20] | d_loss: 0.8465 | g_loss: 1.0796\n",
      "Epoch [   13/   20] | d_loss: 0.8316 | g_loss: 1.3043\n",
      "Epoch [   13/   20] | d_loss: 0.7770 | g_loss: 1.4677\n",
      "Epoch [   13/   20] | d_loss: 1.1469 | g_loss: 2.4782\n",
      "Epoch [   13/   20] | d_loss: 0.9373 | g_loss: 1.3699\n",
      "Epoch [   13/   20] | d_loss: 0.8776 | g_loss: 1.3056\n",
      "Epoch [   13/   20] | d_loss: 1.1807 | g_loss: 0.9058\n",
      "Epoch [   13/   20] | d_loss: 0.9084 | g_loss: 1.0696\n",
      "Epoch [   13/   20] | d_loss: 0.8617 | g_loss: 1.4602\n",
      "Epoch [   13/   20] | d_loss: 0.6694 | g_loss: 1.5265\n",
      "Epoch [   13/   20] | d_loss: 0.7950 | g_loss: 1.4876\n",
      "Epoch [   13/   20] | d_loss: 0.7822 | g_loss: 1.7627\n",
      "Epoch [   13/   20] | d_loss: 0.7211 | g_loss: 1.5632\n",
      "Epoch [   13/   20] | d_loss: 0.7501 | g_loss: 1.8056\n",
      "Epoch [   14/   20] | d_loss: 0.5980 | g_loss: 1.6523\n",
      "Epoch [   14/   20] | d_loss: 0.7489 | g_loss: 1.4092\n",
      "Epoch [   14/   20] | d_loss: 0.7109 | g_loss: 1.1789\n",
      "Epoch [   14/   20] | d_loss: 0.7495 | g_loss: 1.3779\n",
      "Epoch [   14/   20] | d_loss: 1.1912 | g_loss: 2.3235\n",
      "Epoch [   14/   20] | d_loss: 1.0342 | g_loss: 0.9123\n",
      "Epoch [   14/   20] | d_loss: 0.8674 | g_loss: 1.6596\n",
      "Epoch [   14/   20] | d_loss: 0.7545 | g_loss: 1.8467\n",
      "Epoch [   14/   20] | d_loss: 0.6037 | g_loss: 1.9595\n",
      "Epoch [   14/   20] | d_loss: 0.7524 | g_loss: 1.4894\n",
      "Epoch [   14/   20] | d_loss: 0.9547 | g_loss: 1.9967\n",
      "Epoch [   14/   20] | d_loss: 0.6548 | g_loss: 1.7048\n",
      "Epoch [   14/   20] | d_loss: 0.7758 | g_loss: 1.2868\n",
      "Epoch [   14/   20] | d_loss: 0.6643 | g_loss: 1.7212\n",
      "Epoch [   14/   20] | d_loss: 0.6907 | g_loss: 1.4851\n",
      "Epoch [   15/   20] | d_loss: 1.0436 | g_loss: 0.8118\n",
      "Epoch [   15/   20] | d_loss: 0.6390 | g_loss: 1.7551\n",
      "Epoch [   15/   20] | d_loss: 0.7020 | g_loss: 1.6025\n",
      "Epoch [   15/   20] | d_loss: 0.8238 | g_loss: 1.7407\n",
      "Epoch [   15/   20] | d_loss: 0.8299 | g_loss: 2.0438\n",
      "Epoch [   15/   20] | d_loss: 1.0070 | g_loss: 1.3471\n",
      "Epoch [   15/   20] | d_loss: 0.8477 | g_loss: 1.8817\n",
      "Epoch [   15/   20] | d_loss: 0.7037 | g_loss: 1.7352\n",
      "Epoch [   15/   20] | d_loss: 0.8255 | g_loss: 1.3298\n",
      "Epoch [   15/   20] | d_loss: 1.0260 | g_loss: 2.4918\n",
      "Epoch [   15/   20] | d_loss: 0.8346 | g_loss: 1.4957\n",
      "Epoch [   15/   20] | d_loss: 0.9881 | g_loss: 2.5623\n",
      "Epoch [   15/   20] | d_loss: 0.7842 | g_loss: 1.4304\n",
      "Epoch [   15/   20] | d_loss: 0.6418 | g_loss: 1.5850\n",
      "Epoch [   15/   20] | d_loss: 0.5395 | g_loss: 1.8515\n",
      "Epoch [   16/   20] | d_loss: 0.9791 | g_loss: 0.4324\n",
      "Epoch [   16/   20] | d_loss: 0.7089 | g_loss: 1.5932\n",
      "Epoch [   16/   20] | d_loss: 0.9010 | g_loss: 1.1406\n",
      "Epoch [   16/   20] | d_loss: 0.6845 | g_loss: 1.6403\n",
      "Epoch [   16/   20] | d_loss: 0.5130 | g_loss: 2.1277\n",
      "Epoch [   16/   20] | d_loss: 0.5591 | g_loss: 1.9713\n",
      "Epoch [   16/   20] | d_loss: 0.8013 | g_loss: 0.9882\n",
      "Epoch [   16/   20] | d_loss: 0.7155 | g_loss: 1.7500\n",
      "Epoch [   16/   20] | d_loss: 0.6636 | g_loss: 2.2059\n",
      "Epoch [   16/   20] | d_loss: 0.7709 | g_loss: 1.8494\n",
      "Epoch [   16/   20] | d_loss: 0.7343 | g_loss: 1.5432\n",
      "Epoch [   16/   20] | d_loss: 1.3287 | g_loss: 0.3539\n",
      "Epoch [   16/   20] | d_loss: 0.7307 | g_loss: 1.9419\n",
      "Epoch [   16/   20] | d_loss: 0.7163 | g_loss: 0.9840\n",
      "Epoch [   16/   20] | d_loss: 0.7236 | g_loss: 2.1303\n",
      "Epoch [   17/   20] | d_loss: 0.7459 | g_loss: 1.8207\n",
      "Epoch [   17/   20] | d_loss: 0.6266 | g_loss: 1.1110\n",
      "Epoch [   17/   20] | d_loss: 0.6639 | g_loss: 1.2624\n",
      "Epoch [   17/   20] | d_loss: 0.6634 | g_loss: 1.3817\n",
      "Epoch [   17/   20] | d_loss: 0.5108 | g_loss: 1.9159\n",
      "Epoch [   17/   20] | d_loss: 0.7165 | g_loss: 1.1976\n",
      "Epoch [   17/   20] | d_loss: 0.7957 | g_loss: 0.8571\n",
      "Epoch [   17/   20] | d_loss: 0.8241 | g_loss: 1.1714\n",
      "Epoch [   17/   20] | d_loss: 0.6391 | g_loss: 2.2375\n",
      "Epoch [   17/   20] | d_loss: 0.6601 | g_loss: 1.2419\n",
      "Epoch [   17/   20] | d_loss: 0.7690 | g_loss: 1.2170\n",
      "Epoch [   17/   20] | d_loss: 0.6620 | g_loss: 1.0149\n",
      "Epoch [   17/   20] | d_loss: 0.7812 | g_loss: 1.6689\n",
      "Epoch [   17/   20] | d_loss: 0.6727 | g_loss: 1.1825\n",
      "Epoch [   17/   20] | d_loss: 1.3320 | g_loss: 4.1702\n",
      "Epoch [   18/   20] | d_loss: 2.3797 | g_loss: 0.0863\n",
      "Epoch [   18/   20] | d_loss: 0.6692 | g_loss: 1.0819\n",
      "Epoch [   18/   20] | d_loss: 0.8053 | g_loss: 1.2170\n",
      "Epoch [   18/   20] | d_loss: 0.5878 | g_loss: 1.8364\n",
      "Epoch [   18/   20] | d_loss: 0.9138 | g_loss: 1.1198\n",
      "Epoch [   18/   20] | d_loss: 0.5832 | g_loss: 1.3545\n",
      "Epoch [   18/   20] | d_loss: 0.6779 | g_loss: 1.2995\n",
      "Epoch [   18/   20] | d_loss: 0.5841 | g_loss: 1.6028\n",
      "Epoch [   18/   20] | d_loss: 0.6868 | g_loss: 1.3384\n",
      "Epoch [   18/   20] | d_loss: 0.6437 | g_loss: 1.2964\n",
      "Epoch [   18/   20] | d_loss: 0.6025 | g_loss: 1.9639\n",
      "Epoch [   18/   20] | d_loss: 0.8700 | g_loss: 2.2071\n",
      "Epoch [   18/   20] | d_loss: 0.7770 | g_loss: 1.1883\n",
      "Epoch [   18/   20] | d_loss: 0.5530 | g_loss: 1.6342\n",
      "Epoch [   18/   20] | d_loss: 0.6429 | g_loss: 1.1109\n",
      "Epoch [   19/   20] | d_loss: 1.8396 | g_loss: 5.9096\n",
      "Epoch [   19/   20] | d_loss: 0.6485 | g_loss: 1.5404\n",
      "Epoch [   19/   20] | d_loss: 0.7330 | g_loss: 0.8702\n",
      "Epoch [   19/   20] | d_loss: 0.6482 | g_loss: 1.8659\n",
      "Epoch [   19/   20] | d_loss: 0.8702 | g_loss: 1.2877\n",
      "Epoch [   19/   20] | d_loss: 0.5360 | g_loss: 1.0865\n",
      "Epoch [   19/   20] | d_loss: 0.5322 | g_loss: 1.6303\n",
      "Epoch [   19/   20] | d_loss: 0.5558 | g_loss: 2.2252\n",
      "Epoch [   19/   20] | d_loss: 0.7366 | g_loss: 1.7702\n",
      "Epoch [   19/   20] | d_loss: 0.4958 | g_loss: 1.8189\n",
      "Epoch [   19/   20] | d_loss: 0.5768 | g_loss: 1.2769\n",
      "Epoch [   19/   20] | d_loss: 0.5021 | g_loss: 2.0009\n",
      "Epoch [   19/   20] | d_loss: 0.6849 | g_loss: 1.4031\n",
      "Epoch [   19/   20] | d_loss: 0.6342 | g_loss: 1.7552\n",
      "Epoch [   19/   20] | d_loss: 0.5712 | g_loss: 1.5192\n",
      "Epoch [   20/   20] | d_loss: 0.6825 | g_loss: 1.5032\n",
      "Epoch [   20/   20] | d_loss: 0.7110 | g_loss: 2.0709\n",
      "Epoch [   20/   20] | d_loss: 0.5735 | g_loss: 1.6821\n",
      "Epoch [   20/   20] | d_loss: 0.7218 | g_loss: 2.1571\n",
      "Epoch [   20/   20] | d_loss: 0.4461 | g_loss: 2.2475\n",
      "Epoch [   20/   20] | d_loss: 0.7398 | g_loss: 1.6424\n",
      "Epoch [   20/   20] | d_loss: 0.9151 | g_loss: 2.8256\n",
      "Epoch [   20/   20] | d_loss: 0.6556 | g_loss: 1.8034\n",
      "Epoch [   20/   20] | d_loss: 0.5052 | g_loss: 1.6486\n",
      "Epoch [   20/   20] | d_loss: 0.9012 | g_loss: 2.5788\n",
      "Epoch [   20/   20] | d_loss: 0.7379 | g_loss: 1.7319\n",
      "Epoch [   20/   20] | d_loss: 0.5992 | g_loss: 1.6366\n",
      "Epoch [   20/   20] | d_loss: 0.5044 | g_loss: 1.9210\n",
      "Epoch [   20/   20] | d_loss: 0.8724 | g_loss: 3.3586\n",
      "Epoch [   20/   20] | d_loss: 0.6538 | g_loss: 1.1702\n"
     ]
    }
   ],
   "source": [
    "# set number of epochs \n",
    "n_epochs = 20\n",
    "\n",
    "\n",
    "\"\"\"\n",
    "DON'T MODIFY ANYTHING IN THIS CELL\n",
    "\"\"\"\n",
    "# call training function\n",
    "losses = train(D, G, n_epochs=n_epochs)"
   ]
  },
  {
   "cell_type": "markdown",
   "metadata": {
    "colab_type": "text",
    "collapsed": true,
    "id": "oyfKyBHgOFY2"
   },
   "source": [
    "## Training loss\n",
    "\n",
    "Plot the training losses for the generator and discriminator, recorded after each epoch."
   ]
  },
  {
   "cell_type": "code",
   "execution_count": 47,
   "metadata": {
    "colab": {
     "base_uri": "https://localhost:8080/",
     "height": 298
    },
    "colab_type": "code",
    "id": "1NogzQdkOFY3",
    "outputId": "fcc08099-8cb0-4653-fd75-da44fccc2c41"
   },
   "outputs": [
    {
     "data": {
      "text/plain": [
       "<matplotlib.legend.Legend at 0x7fcb7026c6a0>"
      ]
     },
     "execution_count": 47,
     "metadata": {
      "tags": []
     },
     "output_type": "execute_result"
    },
    {
     "data": {
      "image/png": "[encoded data removed]",
      "text/plain": [
       "<Figure size 432x288 with 1 Axes>"
      ]
     },
     "metadata": {
      "tags": []
     },
     "output_type": "display_data"
    }
   ],
   "source": [
    "fig, ax = plt.subplots()\n",
    "losses = np.array(losses)\n",
    "plt.plot(losses.T[0], label='Discriminator', alpha=0.5)\n",
    "plt.plot(losses.T[1], label='Generator', alpha=0.5)\n",
    "plt.title(\"Training Losses\")\n",
    "plt.legend()"
   ]
  },
  {
   "cell_type": "markdown",
   "metadata": {
    "colab_type": "text",
    "collapsed": true,
    "id": "vSE1tzNQOFY4"
   },
   "source": [
    "## Generator samples from training\n",
    "\n",
    "View samples of images from the generator, and answer a question about the strengths and weaknesses of your trained models."
   ]
  },
  {
   "cell_type": "code",
   "execution_count": 0,
   "metadata": {
    "colab": {},
    "colab_type": "code",
    "id": "03drRz_9OFY6"
   },
   "outputs": [],
   "source": [
    "# helper function for viewing a list of passed in sample images\n",
    "def view_samples(epoch, samples):\n",
    "    fig, axes = plt.subplots(figsize=(16,4), nrows=2, ncols=8, sharey=True, sharex=True)\n",
    "    for ax, img in zip(axes.flatten(), samples[epoch]):\n",
    "        img = img.detach().cpu().numpy()\n",
    "        img = np.transpose(img, (1, 2, 0))\n",
    "        img = ((img + 1)*255 / (2)).astype(np.uint8)\n",
    "        ax.xaxis.set_visible(False)\n",
    "        ax.yaxis.set_visible(False)\n",
    "        im = ax.imshow(img.reshape((32,32,3)))"
   ]
  },
  {
   "cell_type": "code",
   "execution_count": 0,
   "metadata": {
    "colab": {},
    "colab_type": "code",
    "id": "NW9XvkSROFY7"
   },
   "outputs": [],
   "source": [
    "# Load samples from generator, taken while training\n",
    "with open('train_samples.pkl', 'rb') as f:\n",
    "    samples = pkl.load(f)"
   ]
  },
  {
   "cell_type": "code",
   "execution_count": 50,
   "metadata": {
    "colab": {
     "base_uri": "https://localhost:8080/",
     "height": 264
    },
    "colab_type": "code",
    "id": "LvMGGv6AOFY8",
    "outputId": "32cbe980-74e8-4e35-916d-2db8397db682"
   },
   "outputs": [
    {
     "data": {
      "image/png": "[encoded data removed]",
      "text/plain": [
       "<Figure size 1152x288 with 16 Axes>"
      ]
     },
     "metadata": {
      "tags": []
     },
     "output_type": "display_data"
    }
   ],
   "source": [
    "_ = view_samples(-1, samples)"
   ]
  },
  {
   "cell_type": "markdown",
   "metadata": {
    "colab_type": "text",
    "id": "j5l69ECOOFY-"
   },
   "source": [
    "### Question: What do you notice about your generated samples and how might you improve this model?\n",
    "When you answer this question, consider the following factors:\n",
    "* The dataset is biased; it is made of \"celebrity\" faces that are mostly white\n",
    "* Model size; larger models have the opportunity to learn more features in a data feature space\n",
    "* Optimization strategy; optimizers and number of epochs affect your final result\n"
   ]
  },
  {
   "cell_type": "markdown",
   "metadata": {
    "colab_type": "text",
    "id": "Yq6XPVNoOFY-"
   },
   "source": [
    "**Answer:** (Write your answer in this cell)\n",
    "\n",
    "The generated faces are not ideal in many cases.\n",
    "To improve:\n",
    "\n",
    "*   Get more samples, especially diversity the sample distribution to include more minorities.\n",
    "*   Stack more layers to learn more representable features.\n",
    "*   Increase the number of training epoches.\n",
    "*   Use adaptive learning rate.\n",
    "\n"
   ]
  },
  {
   "cell_type": "markdown",
   "metadata": {
    "colab_type": "text",
    "id": "AI1piMj_OFY_"
   },
   "source": [
    "### Submitting This Project\n",
    "When submitting this project, make sure to run all the cells before saving the notebook. Save the notebook file as \"dlnd_face_generation.ipynb\" and save it as a HTML file under \"File\" -> \"Download as\". Include the \"problem_unittests.py\" files in your submission."
   ]
  },
  {
   "cell_type": "code",
   "execution_count": 0,
   "metadata": {
    "colab": {},
    "colab_type": "code",
    "id": "4x4537PQ20Pg"
   },
   "outputs": [],
   "source": []
  }
 ],
 "metadata": {
  "accelerator": "GPU",
  "colab": {
   "collapsed_sections": [],
   "name": "dlnd_face_generation.ipynb",
   "provenance": []
  },
  "kernelspec": {
   "display_name": "Python 3",
   "language": "python",
   "name": "python3"
  },
  "language_info": {
   "codemirror_mode": {
    "name": "ipython",
    "version": 3
   },
   "file_extension": ".py",
   "mimetype": "text/x-python",
   "name": "python",
   "nbconvert_exporter": "python",
   "pygments_lexer": "ipython3",
   "version": "3.7.3"
  }
 },
 "nbformat": 4,
 "nbformat_minor": 1
}
